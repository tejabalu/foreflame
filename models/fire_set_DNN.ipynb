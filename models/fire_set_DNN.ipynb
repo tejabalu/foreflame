{
 "cells": [
  {
   "cell_type": "code",
   "execution_count": 1,
   "id": "f13d0df8",
   "metadata": {},
   "outputs": [],
   "source": [
    "import json\n",
    "import numpy as np\n",
    "import pandas as pd\n"
   ]
  },
  {
   "cell_type": "code",
   "execution_count": 2,
   "id": "fab46b2e",
   "metadata": {},
   "outputs": [],
   "source": [
    "df = pd.read_csv(\"total_dataset_other_than_2018_with_vegetation.csv\")"
   ]
  },
  {
   "cell_type": "code",
   "execution_count": 3,
   "id": "5ff2cab6",
   "metadata": {},
   "outputs": [
    {
     "data": {
      "text/plain": [
       "Index(['Unnamed: 0.1', 'Unnamed: 0', 'InitialLatitude', 'InitialLongitude',\n",
       "       'FireOutDateTime', 'date', 'tempature1', 'wind1', 'precipitation1',\n",
       "       'soilmoisture1', 'tempature2', 'wind2', 'precipitation2',\n",
       "       'soilmoisture2', 'tempature3', 'wind3', 'precipitation3',\n",
       "       'soilmoisture3', 'tempature4', 'wind4', 'precipitation4',\n",
       "       'soilmoisture4', 'tempature5', 'wind5', 'precipitation5',\n",
       "       'soilmoisture5', 'fire', 'year', 'vegetation'],\n",
       "      dtype='object')"
      ]
     },
     "execution_count": 3,
     "metadata": {},
     "output_type": "execute_result"
    }
   ],
   "source": [
    "df.columns"
   ]
  },
  {
   "cell_type": "code",
   "execution_count": 7,
   "id": "c486d834",
   "metadata": {},
   "outputs": [
    {
     "data": {
      "text/html": [
       "<div>\n",
       "<style scoped>\n",
       "    .dataframe tbody tr th:only-of-type {\n",
       "        vertical-align: middle;\n",
       "    }\n",
       "\n",
       "    .dataframe tbody tr th {\n",
       "        vertical-align: top;\n",
       "    }\n",
       "\n",
       "    .dataframe thead th {\n",
       "        text-align: right;\n",
       "    }\n",
       "</style>\n",
       "<table border=\"1\" class=\"dataframe\">\n",
       "  <thead>\n",
       "    <tr style=\"text-align: right;\">\n",
       "      <th></th>\n",
       "      <th>Unnamed: 0.1</th>\n",
       "      <th>Unnamed: 0</th>\n",
       "      <th>InitialLatitude</th>\n",
       "      <th>InitialLongitude</th>\n",
       "      <th>FireOutDateTime</th>\n",
       "      <th>date</th>\n",
       "      <th>tempature1</th>\n",
       "      <th>wind1</th>\n",
       "      <th>precipitation1</th>\n",
       "      <th>soilmoisture1</th>\n",
       "      <th>...</th>\n",
       "      <th>wind4</th>\n",
       "      <th>precipitation4</th>\n",
       "      <th>soilmoisture4</th>\n",
       "      <th>tempature5</th>\n",
       "      <th>wind5</th>\n",
       "      <th>precipitation5</th>\n",
       "      <th>soilmoisture5</th>\n",
       "      <th>fire</th>\n",
       "      <th>year</th>\n",
       "      <th>vegetation</th>\n",
       "    </tr>\n",
       "  </thead>\n",
       "  <tbody>\n",
       "    <tr>\n",
       "      <th>0</th>\n",
       "      <td>0</td>\n",
       "      <td>0</td>\n",
       "      <td>47.63531</td>\n",
       "      <td>-117.3354</td>\n",
       "      <td>2017/08/06 17:29:00+00</td>\n",
       "      <td>2017-08-02</td>\n",
       "      <td>304.1</td>\n",
       "      <td>4.456887</td>\n",
       "      <td>2.7070</td>\n",
       "      <td>27.34</td>\n",
       "      <td>...</td>\n",
       "      <td>2.840531</td>\n",
       "      <td>0.0000</td>\n",
       "      <td>28.45</td>\n",
       "      <td>294.9</td>\n",
       "      <td>4.182838</td>\n",
       "      <td>2.4330</td>\n",
       "      <td>29.01</td>\n",
       "      <td>1</td>\n",
       "      <td>2017</td>\n",
       "      <td>0.4597</td>\n",
       "    </tr>\n",
       "    <tr>\n",
       "      <th>1</th>\n",
       "      <td>1</td>\n",
       "      <td>1</td>\n",
       "      <td>47.67908</td>\n",
       "      <td>-117.6248</td>\n",
       "      <td>2019/06/10 16:44:00+00</td>\n",
       "      <td>2019-06-05</td>\n",
       "      <td>304.1</td>\n",
       "      <td>4.456887</td>\n",
       "      <td>2.7070</td>\n",
       "      <td>27.34</td>\n",
       "      <td>...</td>\n",
       "      <td>2.840531</td>\n",
       "      <td>0.0000</td>\n",
       "      <td>28.45</td>\n",
       "      <td>294.9</td>\n",
       "      <td>4.182838</td>\n",
       "      <td>2.4330</td>\n",
       "      <td>29.01</td>\n",
       "      <td>1</td>\n",
       "      <td>2019</td>\n",
       "      <td>0.3832</td>\n",
       "    </tr>\n",
       "    <tr>\n",
       "      <th>2</th>\n",
       "      <td>2</td>\n",
       "      <td>3</td>\n",
       "      <td>46.15799</td>\n",
       "      <td>-123.3071</td>\n",
       "      <td>2019/09/05 20:55:00+00</td>\n",
       "      <td>2019-03-20</td>\n",
       "      <td>292.8</td>\n",
       "      <td>4.282674</td>\n",
       "      <td>5.4040</td>\n",
       "      <td>29.74</td>\n",
       "      <td>...</td>\n",
       "      <td>3.931163</td>\n",
       "      <td>0.0000</td>\n",
       "      <td>29.64</td>\n",
       "      <td>292.5</td>\n",
       "      <td>1.879740</td>\n",
       "      <td>0.5112</td>\n",
       "      <td>29.99</td>\n",
       "      <td>1</td>\n",
       "      <td>2019</td>\n",
       "      <td>0.8110</td>\n",
       "    </tr>\n",
       "    <tr>\n",
       "      <th>3</th>\n",
       "      <td>3</td>\n",
       "      <td>4</td>\n",
       "      <td>47.30909</td>\n",
       "      <td>-122.8772</td>\n",
       "      <td>2019/05/14 20:35:59+00</td>\n",
       "      <td>2019-04-29</td>\n",
       "      <td>296.0</td>\n",
       "      <td>3.920890</td>\n",
       "      <td>0.4700</td>\n",
       "      <td>22.97</td>\n",
       "      <td>...</td>\n",
       "      <td>3.523199</td>\n",
       "      <td>0.0000</td>\n",
       "      <td>23.00</td>\n",
       "      <td>294.9</td>\n",
       "      <td>2.032384</td>\n",
       "      <td>0.2640</td>\n",
       "      <td>23.59</td>\n",
       "      <td>1</td>\n",
       "      <td>2019</td>\n",
       "      <td>0.7295</td>\n",
       "    </tr>\n",
       "    <tr>\n",
       "      <th>4</th>\n",
       "      <td>4</td>\n",
       "      <td>5</td>\n",
       "      <td>46.01575</td>\n",
       "      <td>-121.5195</td>\n",
       "      <td>2020/06/06 18:00:00+00</td>\n",
       "      <td>2020-05-31</td>\n",
       "      <td>294.7</td>\n",
       "      <td>3.314601</td>\n",
       "      <td>0.0072</td>\n",
       "      <td>25.14</td>\n",
       "      <td>...</td>\n",
       "      <td>2.418227</td>\n",
       "      <td>0.0016</td>\n",
       "      <td>26.93</td>\n",
       "      <td>289.9</td>\n",
       "      <td>2.671661</td>\n",
       "      <td>4.4140</td>\n",
       "      <td>28.44</td>\n",
       "      <td>1</td>\n",
       "      <td>2020</td>\n",
       "      <td>0.7593</td>\n",
       "    </tr>\n",
       "  </tbody>\n",
       "</table>\n",
       "<p>5 rows × 29 columns</p>\n",
       "</div>"
      ],
      "text/plain": [
       "   Unnamed: 0.1  Unnamed: 0  InitialLatitude  InitialLongitude  \\\n",
       "0             0           0         47.63531         -117.3354   \n",
       "1             1           1         47.67908         -117.6248   \n",
       "2             2           3         46.15799         -123.3071   \n",
       "3             3           4         47.30909         -122.8772   \n",
       "4             4           5         46.01575         -121.5195   \n",
       "\n",
       "          FireOutDateTime        date  tempature1     wind1  precipitation1  \\\n",
       "0  2017/08/06 17:29:00+00  2017-08-02       304.1  4.456887          2.7070   \n",
       "1  2019/06/10 16:44:00+00  2019-06-05       304.1  4.456887          2.7070   \n",
       "2  2019/09/05 20:55:00+00  2019-03-20       292.8  4.282674          5.4040   \n",
       "3  2019/05/14 20:35:59+00  2019-04-29       296.0  3.920890          0.4700   \n",
       "4  2020/06/06 18:00:00+00  2020-05-31       294.7  3.314601          0.0072   \n",
       "\n",
       "   soilmoisture1  ...     wind4  precipitation4  soilmoisture4  tempature5  \\\n",
       "0          27.34  ...  2.840531          0.0000          28.45       294.9   \n",
       "1          27.34  ...  2.840531          0.0000          28.45       294.9   \n",
       "2          29.74  ...  3.931163          0.0000          29.64       292.5   \n",
       "3          22.97  ...  3.523199          0.0000          23.00       294.9   \n",
       "4          25.14  ...  2.418227          0.0016          26.93       289.9   \n",
       "\n",
       "      wind5  precipitation5  soilmoisture5  fire  year  vegetation  \n",
       "0  4.182838          2.4330          29.01     1  2017      0.4597  \n",
       "1  4.182838          2.4330          29.01     1  2019      0.3832  \n",
       "2  1.879740          0.5112          29.99     1  2019      0.8110  \n",
       "3  2.032384          0.2640          23.59     1  2019      0.7295  \n",
       "4  2.671661          4.4140          28.44     1  2020      0.7593  \n",
       "\n",
       "[5 rows x 29 columns]"
      ]
     },
     "execution_count": 7,
     "metadata": {},
     "output_type": "execute_result"
    }
   ],
   "source": [
    "df.head()"
   ]
  },
  {
   "cell_type": "code",
   "execution_count": 6,
   "id": "da76ed82",
   "metadata": {},
   "outputs": [],
   "source": [
    "for i in range(len(df)):\n",
    "    df.loc[i,\"vegetation\"]=df.loc[i,\"vegetation\"]/10\n",
    "    "
   ]
  },
  {
   "cell_type": "code",
   "execution_count": 8,
   "id": "59d7ee6e",
   "metadata": {},
   "outputs": [],
   "source": [
    "name_list=[]\n",
    "name_list.append(\"vegetation\")\n",
    "for i in range(1,6):\n",
    "    name_list.append(\"tempature\"+str(i))\n",
    "    name_list.append(\"wind\"+str(i))\n",
    "    name_list.append(\"precipitation\"+str(i))\n",
    "    name_list.append(\"soilmoisture\"+str(i))"
   ]
  },
  {
   "cell_type": "code",
   "execution_count": 9,
   "id": "a297eb5b",
   "metadata": {},
   "outputs": [],
   "source": [
    "df_input=df[name_list]"
   ]
  },
  {
   "cell_type": "code",
   "execution_count": 10,
   "id": "7af4671f",
   "metadata": {},
   "outputs": [],
   "source": [
    "df_output=df['fire']"
   ]
  },
  {
   "cell_type": "code",
   "execution_count": 11,
   "id": "e20ec0a9",
   "metadata": {},
   "outputs": [],
   "source": [
    "inputs=df_input.to_numpy()"
   ]
  },
  {
   "cell_type": "code",
   "execution_count": 12,
   "id": "6879379c",
   "metadata": {},
   "outputs": [],
   "source": [
    "min_list=[]\n",
    "max_list=[]\n",
    "for j in range(len(inputs[0])):\n",
    "    temp=[]           \n",
    "    for i in range(len(inputs)):\n",
    "        temp.append(inputs[i][j])\n",
    "    a=np.min(temp)\n",
    "    b=np.max(temp) \n",
    "    min_list.append(a)   \n",
    "    max_list.append(b)           \n",
    "    "
   ]
  },
  {
   "cell_type": "code",
   "execution_count": 13,
   "id": "c13a37fb",
   "metadata": {},
   "outputs": [
    {
     "data": {
      "text/plain": [
       "[-0.3,\n",
       " 257.0,\n",
       " 0.511228929796233,\n",
       " 0.0,\n",
       " 4.719,\n",
       " 257.9,\n",
       " 0.6679561675247815,\n",
       " 0.0,\n",
       " 4.512,\n",
       " 257.9,\n",
       " 0.6681946421793046,\n",
       " 0.0,\n",
       " 4.407,\n",
       " 257.8,\n",
       " 0.6659614559218731,\n",
       " 0.0,\n",
       " 4.28,\n",
       " 256.6,\n",
       " 0.6633764534411255,\n",
       " 0.0,\n",
       " 4.286]"
      ]
     },
     "execution_count": 13,
     "metadata": {},
     "output_type": "execute_result"
    }
   ],
   "source": [
    "min_list"
   ]
  },
  {
   "cell_type": "code",
   "execution_count": 14,
   "id": "dfefcdcf",
   "metadata": {},
   "outputs": [
    {
     "data": {
      "text/plain": [
       "[0.9519,\n",
       " 315.0,\n",
       " 14.825842449437658,\n",
       " 121.9,\n",
       " 49.67,\n",
       " 314.1,\n",
       " 15.170218434171517,\n",
       " 108.4,\n",
       " 49.67,\n",
       " 312.6,\n",
       " 15.1108535307675,\n",
       " 107.9,\n",
       " 49.67,\n",
       " 312.4,\n",
       " 15.67896065322769,\n",
       " 120.7,\n",
       " 49.67,\n",
       " 311.8,\n",
       " 15.917534658626904,\n",
       " 130.1,\n",
       " 49.67]"
      ]
     },
     "execution_count": 14,
     "metadata": {},
     "output_type": "execute_result"
    }
   ],
   "source": [
    "max_list"
   ]
  },
  {
   "cell_type": "code",
   "execution_count": 15,
   "id": "9b932967",
   "metadata": {},
   "outputs": [],
   "source": [
    "input_scaled=[]\n",
    "for inp in inputs:\n",
    "    temp=[]\n",
    "    for i in range(len(inp)):\n",
    "        temp.append( (inp[i]-min_list[i])/(max_list[i]-min_list[i]))\n",
    "    input_scaled.append(temp)    \n",
    "input_scaled=np.array(input_scaled)\n",
    "\n",
    "        "
   ]
  },
  {
   "cell_type": "code",
   "execution_count": 16,
   "id": "b9294c95",
   "metadata": {},
   "outputs": [
    {
     "data": {
      "text/plain": [
       "array([[0.60683761, 0.81206897, 0.27563844, ..., 0.23072142, 0.018701  ,\n",
       "        0.54477349],\n",
       "       [0.54573049, 0.81206897, 0.27563844, ..., 0.23072142, 0.018701  ,\n",
       "        0.54477349],\n",
       "       [0.88745107, 0.61724138, 0.26346821, ..., 0.07973982, 0.00392929,\n",
       "        0.566367  ],\n",
       "       ...,\n",
       "       [0.89400112, 0.71551724, 0.21499549, ..., 0.10295214, 0.02518832,\n",
       "        0.32465186],\n",
       "       [0.53199137, 0.37758621, 0.18567485, ..., 0.19612088, 0.03439662,\n",
       "        0.45641636],\n",
       "       [0.63128045, 0.6       , 0.10599645, ..., 0.24036823, 0.06587241,\n",
       "        0.48197603]])"
      ]
     },
     "execution_count": 16,
     "metadata": {},
     "output_type": "execute_result"
    }
   ],
   "source": [
    "input_scaled"
   ]
  },
  {
   "cell_type": "code",
   "execution_count": 17,
   "id": "8a3349d5",
   "metadata": {},
   "outputs": [],
   "source": [
    "from sklearn import preprocessing\n",
    "min_max_scaler = preprocessing.MinMaxScaler()\n",
    "inputs_scaled = min_max_scaler.fit_transform(inputs)"
   ]
  },
  {
   "cell_type": "code",
   "execution_count": 18,
   "id": "f33c7917",
   "metadata": {},
   "outputs": [],
   "source": [
    "outputs=df_output.to_numpy()"
   ]
  },
  {
   "cell_type": "code",
   "execution_count": 19,
   "id": "59adb29f",
   "metadata": {},
   "outputs": [
    {
     "data": {
      "text/plain": [
       "(9389, 21)"
      ]
     },
     "execution_count": 19,
     "metadata": {},
     "output_type": "execute_result"
    }
   ],
   "source": [
    "inputs.shape"
   ]
  },
  {
   "cell_type": "code",
   "execution_count": 20,
   "id": "6bf59e78",
   "metadata": {},
   "outputs": [],
   "source": [
    "outputs=outputs.reshape(len(outputs),1)"
   ]
  },
  {
   "cell_type": "code",
   "execution_count": 21,
   "id": "66f47d35",
   "metadata": {},
   "outputs": [],
   "source": [
    "from sklearn.model_selection import train_test_split\n"
   ]
  },
  {
   "cell_type": "code",
   "execution_count": 22,
   "id": "0bd46c09",
   "metadata": {},
   "outputs": [],
   "source": [
    "x_train, x_test, y_train, y_test = train_test_split(inputs_scaled, outputs,test_size=0.33, shuffle=True)"
   ]
  },
  {
   "cell_type": "code",
   "execution_count": 21,
   "id": "3bdf3137",
   "metadata": {},
   "outputs": [],
   "source": [
    "test_df = pd.read_csv('fire_2018.csv')"
   ]
  },
  {
   "cell_type": "code",
   "execution_count": 22,
   "id": "53c4e7db",
   "metadata": {},
   "outputs": [],
   "source": [
    "df_test_input=test_df[name_list]"
   ]
  },
  {
   "cell_type": "code",
   "execution_count": 23,
   "id": "8aaef34f",
   "metadata": {},
   "outputs": [],
   "source": [
    "df_test_output=test_df['fire']"
   ]
  },
  {
   "cell_type": "code",
   "execution_count": 24,
   "id": "f23ca989",
   "metadata": {},
   "outputs": [],
   "source": [
    "test_inputs=df_test_input.to_numpy()\n",
    "test_outputs=df_test_output.to_numpy()\n",
    "test_outputs=test_outputs.reshape(len(test_outputs),1)"
   ]
  },
  {
   "cell_type": "code",
   "execution_count": 25,
   "id": "0e080722",
   "metadata": {},
   "outputs": [],
   "source": [
    "test_inputs_scaled = min_max_scaler.fit_transform(test_inputs)"
   ]
  },
  {
   "cell_type": "code",
   "execution_count": 23,
   "id": "2af02754",
   "metadata": {},
   "outputs": [
    {
     "name": "stderr",
     "output_type": "stream",
     "text": [
      "2022-11-30 08:12:42.089023: I tensorflow/core/platform/cpu_feature_guard.cc:193] This TensorFlow binary is optimized with oneAPI Deep Neural Network Library (oneDNN) to use the following CPU instructions in performance-critical operations:  AVX2 AVX512F AVX512_VNNI FMA\n",
      "To enable them in other operations, rebuild TensorFlow with the appropriate compiler flags.\n",
      "2022-11-30 08:12:42.413287: I tensorflow/core/util/port.cc:104] oneDNN custom operations are on. You may see slightly different numerical results due to floating-point round-off errors from different computation orders. To turn them off, set the environment variable `TF_ENABLE_ONEDNN_OPTS=0`.\n",
      "2022-11-30 08:12:42.470834: W tensorflow/compiler/xla/stream_executor/platform/default/dso_loader.cc:64] Could not load dynamic library 'libcudart.so.11.0'; dlerror: libcudart.so.11.0: cannot open shared object file: No such file or directory\n",
      "2022-11-30 08:12:42.470855: I tensorflow/compiler/xla/stream_executor/cuda/cudart_stub.cc:29] Ignore above cudart dlerror if you do not have a GPU set up on your machine.\n",
      "2022-11-30 08:12:43.623972: W tensorflow/compiler/xla/stream_executor/platform/default/dso_loader.cc:64] Could not load dynamic library 'libnvinfer.so.7'; dlerror: libnvinfer.so.7: cannot open shared object file: No such file or directory\n",
      "2022-11-30 08:12:43.624134: W tensorflow/compiler/xla/stream_executor/platform/default/dso_loader.cc:64] Could not load dynamic library 'libnvinfer_plugin.so.7'; dlerror: libnvinfer_plugin.so.7: cannot open shared object file: No such file or directory\n",
      "2022-11-30 08:12:43.624145: W tensorflow/compiler/tf2tensorrt/utils/py_utils.cc:38] TF-TRT Warning: Cannot dlopen some TensorRT libraries. If you would like to use Nvidia GPU with TensorRT, please make sure the missing libraries mentioned above are installed properly.\n"
     ]
    }
   ],
   "source": [
    "import tensorflow as tf\n",
    "from tensorflow.keras.layers import Dense\n",
    "from tensorflow.keras.layers import LSTM\n",
    "from tensorflow.keras.layers import BatchNormalization\n",
    "from tensorflow.keras.layers import Activation\n",
    "from tensorflow.keras.layers import Dropout\n",
    "from tensorflow.keras.models import Sequential\n",
    "from tensorflow.keras import optimizers"
   ]
  },
  {
   "cell_type": "code",
   "execution_count": 24,
   "id": "b8ff454c",
   "metadata": {},
   "outputs": [],
   "source": [
    "def Model(input_dim, activation, num_class):\n",
    "    model = Sequential()\n",
    "    \n",
    "    \n",
    "    \n",
    "    model.add(Dense(64))\n",
    "    model.add(BatchNormalization())\n",
    "    model.add(Activation(activation))\n",
    "\n",
    "\n",
    "    model.add(Dense(num_class))    \n",
    "    model.add(Activation('linear'))\n",
    "    model.compile(loss='binary_crossentropy',\n",
    "                      optimizer=optimizers.Adam(lr = 0.01),\n",
    "                      metrics=['accuracy']\n",
    "                )\n",
    "    return model"
   ]
  },
  {
   "cell_type": "code",
   "execution_count": 25,
   "id": "ee675d52",
   "metadata": {},
   "outputs": [
    {
     "name": "stderr",
     "output_type": "stream",
     "text": [
      "2022-11-30 08:13:05.464670: W tensorflow/compiler/xla/stream_executor/platform/default/dso_loader.cc:64] Could not load dynamic library 'libcuda.so.1'; dlerror: libcuda.so.1: cannot open shared object file: No such file or directory\n",
      "2022-11-30 08:13:05.465037: W tensorflow/compiler/xla/stream_executor/cuda/cuda_driver.cc:265] failed call to cuInit: UNKNOWN ERROR (303)\n",
      "2022-11-30 08:13:05.465089: I tensorflow/compiler/xla/stream_executor/cuda/cuda_diagnostics.cc:156] kernel driver does not appear to be running on this host (flask-server): /proc/driver/nvidia/version does not exist\n",
      "2022-11-30 08:13:05.466568: I tensorflow/core/platform/cpu_feature_guard.cc:193] This TensorFlow binary is optimized with oneAPI Deep Neural Network Library (oneDNN) to use the following CPU instructions in performance-critical operations:  AVX2 AVX512F AVX512_VNNI FMA\n",
      "To enable them in other operations, rebuild TensorFlow with the appropriate compiler flags.\n",
      "WARNING:absl:`lr` is deprecated, please use `learning_rate` instead, or use the legacy optimizer, e.g.,tf.keras.optimizers.legacy.Adam.\n"
     ]
    }
   ],
   "source": [
    "input_dim = inputs.shape[1]\n",
    "activation = 'softmax'\n",
    "classes = 1\n",
    "model = Model(input_dim=input_dim, activation=activation, num_class=classes)\n"
   ]
  },
  {
   "cell_type": "code",
   "execution_count": 26,
   "id": "9a3b22f8",
   "metadata": {},
   "outputs": [
    {
     "name": "stdout",
     "output_type": "stream",
     "text": [
      "Epoch 1/50\n",
      "197/197 [==============================] - 2s 5ms/step - loss: 0.5962 - accuracy: 0.7033 - val_loss: 0.5913 - val_accuracy: 0.6964\n",
      "Epoch 2/50\n",
      "197/197 [==============================] - 1s 3ms/step - loss: 0.4423 - accuracy: 0.7033 - val_loss: 0.4681 - val_accuracy: 0.6964\n",
      "Epoch 3/50\n",
      "197/197 [==============================] - 1s 3ms/step - loss: 0.3584 - accuracy: 0.7456 - val_loss: 0.3244 - val_accuracy: 0.7874\n",
      "Epoch 4/50\n",
      "197/197 [==============================] - 1s 3ms/step - loss: 0.2798 - accuracy: 0.8889 - val_loss: 0.2485 - val_accuracy: 0.8829\n",
      "Epoch 5/50\n",
      "197/197 [==============================] - 1s 3ms/step - loss: 0.2168 - accuracy: 0.9234 - val_loss: 0.2687 - val_accuracy: 0.8680\n",
      "Epoch 6/50\n",
      "197/197 [==============================] - 1s 3ms/step - loss: 0.1767 - accuracy: 0.9321 - val_loss: 0.1573 - val_accuracy: 0.9177\n",
      "Epoch 7/50\n",
      "197/197 [==============================] - 0s 3ms/step - loss: 0.1498 - accuracy: 0.9459 - val_loss: 0.1227 - val_accuracy: 0.9610\n",
      "Epoch 8/50\n",
      "197/197 [==============================] - 0s 2ms/step - loss: 0.1368 - accuracy: 0.9510 - val_loss: 0.1259 - val_accuracy: 0.9622\n",
      "Epoch 9/50\n",
      "197/197 [==============================] - 0s 2ms/step - loss: 0.1224 - accuracy: 0.9583 - val_loss: 0.1010 - val_accuracy: 0.9745\n",
      "Epoch 10/50\n",
      "197/197 [==============================] - 0s 2ms/step - loss: 0.1288 - accuracy: 0.9563 - val_loss: 0.1068 - val_accuracy: 0.9684\n",
      "Epoch 11/50\n",
      "197/197 [==============================] - 0s 2ms/step - loss: 0.1244 - accuracy: 0.9618 - val_loss: 0.1201 - val_accuracy: 0.9603\n",
      "Epoch 12/50\n",
      "197/197 [==============================] - 0s 2ms/step - loss: 0.1140 - accuracy: 0.9696 - val_loss: 0.0790 - val_accuracy: 0.9719\n",
      "Epoch 13/50\n",
      "197/197 [==============================] - 0s 2ms/step - loss: 0.1090 - accuracy: 0.9669 - val_loss: 0.0931 - val_accuracy: 0.9668\n",
      "Epoch 14/50\n",
      "197/197 [==============================] - 0s 2ms/step - loss: 0.1077 - accuracy: 0.9693 - val_loss: 0.1062 - val_accuracy: 0.9693\n",
      "Epoch 15/50\n",
      "197/197 [==============================] - 0s 2ms/step - loss: 0.1001 - accuracy: 0.9684 - val_loss: 0.0700 - val_accuracy: 0.9745\n",
      "Epoch 16/50\n",
      "197/197 [==============================] - 0s 2ms/step - loss: 0.1103 - accuracy: 0.9685 - val_loss: 0.0639 - val_accuracy: 0.9813\n",
      "Epoch 17/50\n",
      "197/197 [==============================] - 0s 2ms/step - loss: 0.0924 - accuracy: 0.9746 - val_loss: 0.0793 - val_accuracy: 0.9771\n",
      "Epoch 18/50\n",
      "197/197 [==============================] - 0s 2ms/step - loss: 0.0946 - accuracy: 0.9709 - val_loss: 0.0742 - val_accuracy: 0.9800\n",
      "Epoch 19/50\n",
      "197/197 [==============================] - 1s 3ms/step - loss: 0.0909 - accuracy: 0.9752 - val_loss: 0.1015 - val_accuracy: 0.9758\n",
      "Epoch 20/50\n",
      "197/197 [==============================] - 0s 2ms/step - loss: 0.0888 - accuracy: 0.9744 - val_loss: 0.0684 - val_accuracy: 0.9826\n",
      "Epoch 21/50\n",
      "197/197 [==============================] - 0s 2ms/step - loss: 0.0919 - accuracy: 0.9746 - val_loss: 0.0925 - val_accuracy: 0.9722\n",
      "Epoch 22/50\n",
      "197/197 [==============================] - 0s 2ms/step - loss: 0.0911 - accuracy: 0.9723 - val_loss: 0.0682 - val_accuracy: 0.9842\n",
      "Epoch 23/50\n",
      "197/197 [==============================] - 0s 2ms/step - loss: 0.0794 - accuracy: 0.9742 - val_loss: 0.1290 - val_accuracy: 0.9445\n",
      "Epoch 24/50\n",
      "197/197 [==============================] - 0s 2ms/step - loss: 0.0823 - accuracy: 0.9787 - val_loss: 0.1992 - val_accuracy: 0.9506\n",
      "Epoch 25/50\n",
      "197/197 [==============================] - 0s 2ms/step - loss: 0.0862 - accuracy: 0.9760 - val_loss: 0.0644 - val_accuracy: 0.9842\n",
      "Epoch 26/50\n",
      "197/197 [==============================] - 0s 2ms/step - loss: 0.0764 - accuracy: 0.9779 - val_loss: 0.1504 - val_accuracy: 0.9684\n",
      "Epoch 27/50\n",
      "197/197 [==============================] - 0s 2ms/step - loss: 0.0810 - accuracy: 0.9768 - val_loss: 0.0439 - val_accuracy: 0.9868\n",
      "Epoch 28/50\n",
      "197/197 [==============================] - 0s 2ms/step - loss: 0.0814 - accuracy: 0.9800 - val_loss: 0.0659 - val_accuracy: 0.9839\n",
      "Epoch 29/50\n",
      "197/197 [==============================] - 0s 2ms/step - loss: 0.1196 - accuracy: 0.9715 - val_loss: 0.1375 - val_accuracy: 0.9674\n",
      "Epoch 30/50\n",
      "197/197 [==============================] - 0s 2ms/step - loss: 0.0830 - accuracy: 0.9773 - val_loss: 0.0606 - val_accuracy: 0.9861\n",
      "Epoch 31/50\n",
      "197/197 [==============================] - 0s 2ms/step - loss: 0.0693 - accuracy: 0.9820 - val_loss: 0.0852 - val_accuracy: 0.9729\n",
      "Epoch 32/50\n",
      "197/197 [==============================] - 1s 3ms/step - loss: 0.0669 - accuracy: 0.9793 - val_loss: 0.0468 - val_accuracy: 0.9897\n",
      "Epoch 33/50\n",
      "197/197 [==============================] - 1s 4ms/step - loss: 0.0664 - accuracy: 0.9797 - val_loss: 0.4073 - val_accuracy: 0.9329\n",
      "Epoch 34/50\n",
      "197/197 [==============================] - 1s 3ms/step - loss: 0.0773 - accuracy: 0.9760 - val_loss: 0.0476 - val_accuracy: 0.9897\n",
      "Epoch 35/50\n",
      "197/197 [==============================] - 1s 3ms/step - loss: 0.0743 - accuracy: 0.9816 - val_loss: 0.0580 - val_accuracy: 0.9845\n",
      "Epoch 36/50\n",
      "197/197 [==============================] - 1s 4ms/step - loss: 0.0642 - accuracy: 0.9814 - val_loss: 0.0403 - val_accuracy: 0.9913\n",
      "Epoch 37/50\n",
      "197/197 [==============================] - 1s 4ms/step - loss: 0.0739 - accuracy: 0.9812 - val_loss: 0.0642 - val_accuracy: 0.9832\n",
      "Epoch 38/50\n",
      "197/197 [==============================] - 1s 3ms/step - loss: 0.0649 - accuracy: 0.9841 - val_loss: 0.0550 - val_accuracy: 0.9864\n",
      "Epoch 39/50\n",
      "197/197 [==============================] - 1s 4ms/step - loss: 0.0631 - accuracy: 0.9843 - val_loss: 0.0479 - val_accuracy: 0.9887\n",
      "Epoch 40/50\n",
      "197/197 [==============================] - 1s 4ms/step - loss: 0.0740 - accuracy: 0.9798 - val_loss: 3.2469 - val_accuracy: 0.7399\n",
      "Epoch 41/50\n",
      "197/197 [==============================] - 1s 4ms/step - loss: 0.0832 - accuracy: 0.9793 - val_loss: 0.1144 - val_accuracy: 0.9748\n",
      "Epoch 42/50\n",
      "197/197 [==============================] - 1s 3ms/step - loss: 0.0708 - accuracy: 0.9800 - val_loss: 0.1953 - val_accuracy: 0.9600\n",
      "Epoch 43/50\n",
      "197/197 [==============================] - 1s 3ms/step - loss: 0.0609 - accuracy: 0.9803 - val_loss: 0.0459 - val_accuracy: 0.9871\n",
      "Epoch 44/50\n",
      "197/197 [==============================] - 1s 3ms/step - loss: 0.0715 - accuracy: 0.9812 - val_loss: 0.0368 - val_accuracy: 0.9900\n",
      "Epoch 45/50\n",
      "197/197 [==============================] - 0s 2ms/step - loss: 0.0652 - accuracy: 0.9844 - val_loss: 0.0360 - val_accuracy: 0.9900\n",
      "Epoch 46/50\n",
      "197/197 [==============================] - 0s 2ms/step - loss: 0.0559 - accuracy: 0.9816 - val_loss: 0.1549 - val_accuracy: 0.9484\n",
      "Epoch 47/50\n",
      "197/197 [==============================] - 0s 2ms/step - loss: 0.0735 - accuracy: 0.9784 - val_loss: 0.0539 - val_accuracy: 0.9858\n",
      "Epoch 48/50\n",
      "197/197 [==============================] - 0s 2ms/step - loss: 0.0710 - accuracy: 0.9808 - val_loss: 0.0570 - val_accuracy: 0.9835\n",
      "Epoch 49/50\n",
      "197/197 [==============================] - 0s 2ms/step - loss: 0.0643 - accuracy: 0.9828 - val_loss: 0.0491 - val_accuracy: 0.9848\n",
      "Epoch 50/50\n",
      "197/197 [==============================] - 0s 2ms/step - loss: 0.0527 - accuracy: 0.9846 - val_loss: 0.0506 - val_accuracy: 0.9852\n"
     ]
    }
   ],
   "source": [
    "history = model.fit(x=x_train, y=y_train, batch_size=32, epochs=50, validation_data=(x_test, y_test))\n"
   ]
  },
  {
   "cell_type": "code",
   "execution_count": 27,
   "id": "5949c78b",
   "metadata": {},
   "outputs": [
    {
     "name": "stderr",
     "output_type": "stream",
     "text": [
      "WARNING:absl:Found untraced functions such as _update_step_xla while saving (showing 1 of 1). These functions will not be directly callable after loading.\n"
     ]
    },
    {
     "name": "stdout",
     "output_type": "stream",
     "text": [
      "INFO:tensorflow:Assets written to: ./fire_model_7.0/assets\n"
     ]
    },
    {
     "name": "stderr",
     "output_type": "stream",
     "text": [
      "INFO:tensorflow:Assets written to: ./fire_model_7.0/assets\n"
     ]
    }
   ],
   "source": [
    "model.save('./fire_model_7.0',save_format='tf')"
   ]
  },
  {
   "cell_type": "code",
   "execution_count": 30,
   "id": "725c5f3c",
   "metadata": {},
   "outputs": [],
   "source": [
    "import tensorflow as tf"
   ]
  },
  {
   "cell_type": "code",
   "execution_count": 28,
   "id": "3e3e3300",
   "metadata": {},
   "outputs": [],
   "source": [
    "model = tf.keras.models.load_model('fire_model_7.0')"
   ]
  },
  {
   "cell_type": "code",
   "execution_count": null,
   "id": "3c86d40f",
   "metadata": {},
   "outputs": [],
   "source": []
  }
 ],
 "metadata": {
  "kernelspec": {
   "display_name": "Python 3 (ipykernel)",
   "language": "python",
   "name": "python3"
  },
  "language_info": {
   "codemirror_mode": {
    "name": "ipython",
    "version": 3
   },
   "file_extension": ".py",
   "mimetype": "text/x-python",
   "name": "python",
   "nbconvert_exporter": "python",
   "pygments_lexer": "ipython3",
   "version": "3.8.10"
  }
 },
 "nbformat": 4,
 "nbformat_minor": 5
}
