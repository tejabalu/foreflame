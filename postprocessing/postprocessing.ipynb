{
 "cells": [
  {
   "cell_type": "code",
   "execution_count": 47,
   "metadata": {},
   "outputs": [],
   "source": [
    "import pandas as pd\n",
    "import numpy as np\n",
    "from datetime import date, timedelta\n",
    "from time import mktime\n",
    "import json\n",
    "from geojson import Feature, FeatureCollection, Point"
   ]
  },
  {
   "cell_type": "code",
   "execution_count": 48,
   "metadata": {},
   "outputs": [
    {
     "data": {
      "text/html": [
       "<div>\n",
       "<style scoped>\n",
       "    .dataframe tbody tr th:only-of-type {\n",
       "        vertical-align: middle;\n",
       "    }\n",
       "\n",
       "    .dataframe tbody tr th {\n",
       "        vertical-align: top;\n",
       "    }\n",
       "\n",
       "    .dataframe thead th {\n",
       "        text-align: right;\n",
       "    }\n",
       "</style>\n",
       "<table border=\"1\" class=\"dataframe\">\n",
       "  <thead>\n",
       "    <tr style=\"text-align: right;\">\n",
       "      <th></th>\n",
       "      <th>day1</th>\n",
       "      <th>day1_confidence</th>\n",
       "      <th>day2</th>\n",
       "      <th>day2_confidence</th>\n",
       "      <th>day3</th>\n",
       "      <th>day3_confidence</th>\n",
       "      <th>day4</th>\n",
       "      <th>day4_confidence</th>\n",
       "      <th>day5</th>\n",
       "      <th>day5_confidence</th>\n",
       "      <th>latitude</th>\n",
       "      <th>longitude</th>\n",
       "    </tr>\n",
       "  </thead>\n",
       "  <tbody>\n",
       "    <tr>\n",
       "      <th>0</th>\n",
       "      <td>0</td>\n",
       "      <td>-0.042379</td>\n",
       "      <td>0</td>\n",
       "      <td>-0.341115</td>\n",
       "      <td>1</td>\n",
       "      <td>0.557202</td>\n",
       "      <td>1</td>\n",
       "      <td>0.347046</td>\n",
       "      <td>0</td>\n",
       "      <td>-0.649949</td>\n",
       "      <td>49.006704</td>\n",
       "      <td>-122.727215</td>\n",
       "    </tr>\n",
       "    <tr>\n",
       "      <th>1</th>\n",
       "      <td>0</td>\n",
       "      <td>-0.080303</td>\n",
       "      <td>1</td>\n",
       "      <td>0.252081</td>\n",
       "      <td>1</td>\n",
       "      <td>0.262091</td>\n",
       "      <td>1</td>\n",
       "      <td>0.148855</td>\n",
       "      <td>0</td>\n",
       "      <td>-0.060581</td>\n",
       "      <td>49.006704</td>\n",
       "      <td>-122.714526</td>\n",
       "    </tr>\n",
       "    <tr>\n",
       "      <th>2</th>\n",
       "      <td>0</td>\n",
       "      <td>-0.080303</td>\n",
       "      <td>1</td>\n",
       "      <td>0.252081</td>\n",
       "      <td>1</td>\n",
       "      <td>0.262091</td>\n",
       "      <td>1</td>\n",
       "      <td>0.148855</td>\n",
       "      <td>0</td>\n",
       "      <td>-0.060581</td>\n",
       "      <td>49.006704</td>\n",
       "      <td>-122.676457</td>\n",
       "    </tr>\n",
       "    <tr>\n",
       "      <th>3</th>\n",
       "      <td>0</td>\n",
       "      <td>-0.080303</td>\n",
       "      <td>1</td>\n",
       "      <td>0.252081</td>\n",
       "      <td>1</td>\n",
       "      <td>0.262091</td>\n",
       "      <td>1</td>\n",
       "      <td>0.148855</td>\n",
       "      <td>0</td>\n",
       "      <td>-0.060581</td>\n",
       "      <td>49.006704</td>\n",
       "      <td>-122.625699</td>\n",
       "    </tr>\n",
       "    <tr>\n",
       "      <th>4</th>\n",
       "      <td>0</td>\n",
       "      <td>-0.080303</td>\n",
       "      <td>1</td>\n",
       "      <td>0.252081</td>\n",
       "      <td>1</td>\n",
       "      <td>0.262091</td>\n",
       "      <td>1</td>\n",
       "      <td>0.148855</td>\n",
       "      <td>0</td>\n",
       "      <td>-0.060581</td>\n",
       "      <td>49.006704</td>\n",
       "      <td>-122.613010</td>\n",
       "    </tr>\n",
       "  </tbody>\n",
       "</table>\n",
       "</div>"
      ],
      "text/plain": [
       "   day1  day1_confidence  day2  day2_confidence  day3  day3_confidence  day4  \\\n",
       "0     0        -0.042379     0        -0.341115     1         0.557202     1   \n",
       "1     0        -0.080303     1         0.252081     1         0.262091     1   \n",
       "2     0        -0.080303     1         0.252081     1         0.262091     1   \n",
       "3     0        -0.080303     1         0.252081     1         0.262091     1   \n",
       "4     0        -0.080303     1         0.252081     1         0.262091     1   \n",
       "\n",
       "   day4_confidence  day5  day5_confidence   latitude   longitude  \n",
       "0         0.347046     0        -0.649949  49.006704 -122.727215  \n",
       "1         0.148855     0        -0.060581  49.006704 -122.714526  \n",
       "2         0.148855     0        -0.060581  49.006704 -122.676457  \n",
       "3         0.148855     0        -0.060581  49.006704 -122.625699  \n",
       "4         0.148855     0        -0.060581  49.006704 -122.613010  "
      ]
     },
     "execution_count": 48,
     "metadata": {},
     "output_type": "execute_result"
    }
   ],
   "source": [
    "orginalPredictions = pd.read_csv('result_2022_07_20.csv', index_col=0)\n",
    "orginalPredictions.head()"
   ]
  },
  {
   "cell_type": "code",
   "execution_count": 49,
   "metadata": {},
   "outputs": [],
   "source": [
    "cur_date = date(2022, 7, 20)\n",
    "delta = timedelta(days = 1)\n"
   ]
  },
  {
   "cell_type": "code",
   "execution_count": 50,
   "metadata": {},
   "outputs": [
    {
     "data": {
      "text/plain": [
       "[              date  dayResult  dayConfidence   latitude   longitude\n",
       " 89292   2022-07-20          1       0.735935  46.811421 -122.346530\n",
       " 89293   2022-07-20          1       0.735935  46.811421 -122.333841\n",
       " 89848   2022-07-20          1       0.735935  46.798731 -122.346530\n",
       " 89849   2022-07-20          1       0.735935  46.798731 -122.333841\n",
       " 89850   2022-07-20          1       0.735935  46.798731 -122.321151\n",
       " ...            ...        ...            ...        ...         ...\n",
       " 106516  2022-07-20          1       0.735935  46.418046 -122.130809\n",
       " 106517  2022-07-20          1       0.735935  46.418046 -122.118119\n",
       " 106518  2022-07-20          1       0.735935  46.418046 -122.105430\n",
       " 106519  2022-07-20          1       0.735935  46.418046 -122.092740\n",
       " 106520  2022-07-20          1       0.735935  46.418046 -122.080051\n",
       " \n",
       " [500 rows x 5 columns],\n",
       "              date  dayResult  dayConfidence   latitude   longitude\n",
       " 89886  2022-07-21          1       0.540864  46.798731 -121.864329\n",
       " 90441  2022-07-21          1       0.540864  46.786042 -121.877019\n",
       " 90442  2022-07-21          1       0.540864  46.786042 -121.864329\n",
       " 90443  2022-07-21          1       0.540864  46.786042 -121.851640\n",
       " 90996  2022-07-21          1       0.540864  46.773352 -121.889708\n",
       " ...           ...        ...            ...        ...         ...\n",
       " 96014  2022-07-21          1       0.476591  46.659147 -121.534402\n",
       " 96015  2022-07-21          1       0.476591  46.659147 -121.521713\n",
       " 96556  2022-07-21          1       0.476591  46.646457 -121.699366\n",
       " 96557  2022-07-21          1       0.476591  46.646457 -121.686676\n",
       " 96558  2022-07-21          1       0.476591  46.646457 -121.673987\n",
       " \n",
       " [500 rows x 5 columns],\n",
       "              date  dayResult  dayConfidence   latitude   longitude\n",
       " 31135  2022-07-22          1        0.73236  48.118439 -122.879489\n",
       " 31136  2022-07-22          1        0.73236  48.118439 -122.866800\n",
       " 31137  2022-07-22          1        0.73236  48.118439 -122.854110\n",
       " 31684  2022-07-22          1        0.73236  48.105750 -122.930247\n",
       " 31685  2022-07-22          1        0.73236  48.105750 -122.917558\n",
       " ...           ...        ...            ...        ...         ...\n",
       " 43298  2022-07-22          1        0.73236  47.851960 -122.663768\n",
       " 43299  2022-07-22          1        0.73236  47.851960 -122.651078\n",
       " 43300  2022-07-22          1        0.73236  47.851960 -122.638389\n",
       " 43849  2022-07-22          1        0.73236  47.839270 -123.120589\n",
       " 43850  2022-07-22          1        0.73236  47.839270 -123.107900\n",
       " \n",
       " [500 rows x 5 columns],\n",
       "              date  dayResult  dayConfidence   latitude   longitude\n",
       " 245    2022-07-23          1       0.410023  48.994014 -121.597850\n",
       " 246    2022-07-23          1       0.410023  48.994014 -121.585160\n",
       " 247    2022-07-23          1       0.410023  48.994014 -121.572471\n",
       " 248    2022-07-23          1       0.410023  48.994014 -121.559781\n",
       " 249    2022-07-23          1       0.410023  48.994014 -121.547092\n",
       " ...           ...        ...            ...        ...         ...\n",
       " 12306  2022-07-23          1       0.410023  48.651398 -121.344060\n",
       " 12719  2022-07-23          1       0.410023  48.638708 -121.534402\n",
       " 12720  2022-07-23          1       0.410023  48.638708 -121.521713\n",
       " 12721  2022-07-23          1       0.410023  48.638708 -121.509023\n",
       " 12722  2022-07-23          1       0.410023  48.638708 -121.496334\n",
       " \n",
       " [500 rows x 5 columns],\n",
       "              date  dayResult  dayConfidence   latitude   longitude\n",
       " 149    2022-07-24          1       0.347503  49.006704 -117.499142\n",
       " 150    2022-07-24          1       0.347503  49.006704 -117.448384\n",
       " 151    2022-07-24          1       0.347503  49.006704 -117.384936\n",
       " 566    2022-07-24          1       0.347503  48.994014 -117.524521\n",
       " 567    2022-07-24          1       0.347503  48.994014 -117.511831\n",
       " ...           ...        ...            ...        ...         ...\n",
       " 10004  2022-07-24          1       0.347503  48.727535 -117.626037\n",
       " 10005  2022-07-24          1       0.347503  48.727535 -117.613347\n",
       " 10006  2022-07-24          1       0.347503  48.727535 -117.600658\n",
       " 10007  2022-07-24          1       0.347503  48.727535 -117.587968\n",
       " 10008  2022-07-24          1       0.347503  48.727535 -117.575279\n",
       " \n",
       " [500 rows x 5 columns]]"
      ]
     },
     "execution_count": 50,
     "metadata": {},
     "output_type": "execute_result"
    }
   ],
   "source": [
    "days = []\n",
    "\n",
    "for i in range(1, 6):\n",
    "    curDay = (orginalPredictions[[f\"day{i}\", f\"day{i}_confidence\", \"latitude\", \"longitude\"]])\n",
    "    curDay = curDay.dropna()\n",
    "    cur_date_col = pd.DataFrame([cur_date]*len(curDay.index), columns=[\"date\"])\n",
    "    curDay = cur_date_col.join(curDay)\n",
    "    cur_date += delta\n",
    "    curDay = curDay.nlargest(500, f'day{i}_confidence')\n",
    "    curDay.columns = pd.Series(['date', 'dayResult', 'dayConfidence', 'latitude', 'longitude'])\n",
    "    days.append(curDay)\n",
    "\n",
    "\n",
    "days"
   ]
  },
  {
   "cell_type": "code",
   "execution_count": 51,
   "metadata": {},
   "outputs": [
    {
     "data": {
      "text/html": [
       "<div>\n",
       "<style scoped>\n",
       "    .dataframe tbody tr th:only-of-type {\n",
       "        vertical-align: middle;\n",
       "    }\n",
       "\n",
       "    .dataframe tbody tr th {\n",
       "        vertical-align: top;\n",
       "    }\n",
       "\n",
       "    .dataframe thead th {\n",
       "        text-align: right;\n",
       "    }\n",
       "</style>\n",
       "<table border=\"1\" class=\"dataframe\">\n",
       "  <thead>\n",
       "    <tr style=\"text-align: right;\">\n",
       "      <th></th>\n",
       "      <th>SNo</th>\n",
       "      <th>date</th>\n",
       "      <th>dayResult</th>\n",
       "      <th>dayConfidence</th>\n",
       "      <th>latitude</th>\n",
       "      <th>longitude</th>\n",
       "      <th>dateUnixTimestamp</th>\n",
       "    </tr>\n",
       "  </thead>\n",
       "  <tbody>\n",
       "    <tr>\n",
       "      <th>89292</th>\n",
       "      <td>0</td>\n",
       "      <td>2022-07-20</td>\n",
       "      <td>1</td>\n",
       "      <td>0.735935</td>\n",
       "      <td>46.811421</td>\n",
       "      <td>-122.346530</td>\n",
       "      <td>1658275200</td>\n",
       "    </tr>\n",
       "    <tr>\n",
       "      <th>89293</th>\n",
       "      <td>1</td>\n",
       "      <td>2022-07-20</td>\n",
       "      <td>1</td>\n",
       "      <td>0.735935</td>\n",
       "      <td>46.811421</td>\n",
       "      <td>-122.333841</td>\n",
       "      <td>1658275200</td>\n",
       "    </tr>\n",
       "    <tr>\n",
       "      <th>89848</th>\n",
       "      <td>2</td>\n",
       "      <td>2022-07-20</td>\n",
       "      <td>1</td>\n",
       "      <td>0.735935</td>\n",
       "      <td>46.798731</td>\n",
       "      <td>-122.346530</td>\n",
       "      <td>1658275200</td>\n",
       "    </tr>\n",
       "    <tr>\n",
       "      <th>89849</th>\n",
       "      <td>3</td>\n",
       "      <td>2022-07-20</td>\n",
       "      <td>1</td>\n",
       "      <td>0.735935</td>\n",
       "      <td>46.798731</td>\n",
       "      <td>-122.333841</td>\n",
       "      <td>1658275200</td>\n",
       "    </tr>\n",
       "    <tr>\n",
       "      <th>89850</th>\n",
       "      <td>4</td>\n",
       "      <td>2022-07-20</td>\n",
       "      <td>1</td>\n",
       "      <td>0.735935</td>\n",
       "      <td>46.798731</td>\n",
       "      <td>-122.321151</td>\n",
       "      <td>1658275200</td>\n",
       "    </tr>\n",
       "    <tr>\n",
       "      <th>...</th>\n",
       "      <td>...</td>\n",
       "      <td>...</td>\n",
       "      <td>...</td>\n",
       "      <td>...</td>\n",
       "      <td>...</td>\n",
       "      <td>...</td>\n",
       "      <td>...</td>\n",
       "    </tr>\n",
       "    <tr>\n",
       "      <th>10004</th>\n",
       "      <td>2495</td>\n",
       "      <td>2022-07-24</td>\n",
       "      <td>1</td>\n",
       "      <td>0.347503</td>\n",
       "      <td>48.727535</td>\n",
       "      <td>-117.626037</td>\n",
       "      <td>1658620800</td>\n",
       "    </tr>\n",
       "    <tr>\n",
       "      <th>10005</th>\n",
       "      <td>2496</td>\n",
       "      <td>2022-07-24</td>\n",
       "      <td>1</td>\n",
       "      <td>0.347503</td>\n",
       "      <td>48.727535</td>\n",
       "      <td>-117.613347</td>\n",
       "      <td>1658620800</td>\n",
       "    </tr>\n",
       "    <tr>\n",
       "      <th>10006</th>\n",
       "      <td>2497</td>\n",
       "      <td>2022-07-24</td>\n",
       "      <td>1</td>\n",
       "      <td>0.347503</td>\n",
       "      <td>48.727535</td>\n",
       "      <td>-117.600658</td>\n",
       "      <td>1658620800</td>\n",
       "    </tr>\n",
       "    <tr>\n",
       "      <th>10007</th>\n",
       "      <td>2498</td>\n",
       "      <td>2022-07-24</td>\n",
       "      <td>1</td>\n",
       "      <td>0.347503</td>\n",
       "      <td>48.727535</td>\n",
       "      <td>-117.587968</td>\n",
       "      <td>1658620800</td>\n",
       "    </tr>\n",
       "    <tr>\n",
       "      <th>10008</th>\n",
       "      <td>2499</td>\n",
       "      <td>2022-07-24</td>\n",
       "      <td>1</td>\n",
       "      <td>0.347503</td>\n",
       "      <td>48.727535</td>\n",
       "      <td>-117.575279</td>\n",
       "      <td>1658620800</td>\n",
       "    </tr>\n",
       "  </tbody>\n",
       "</table>\n",
       "<p>2500 rows × 7 columns</p>\n",
       "</div>"
      ],
      "text/plain": [
       "        SNo        date  dayResult  dayConfidence   latitude   longitude  \\\n",
       "89292     0  2022-07-20          1       0.735935  46.811421 -122.346530   \n",
       "89293     1  2022-07-20          1       0.735935  46.811421 -122.333841   \n",
       "89848     2  2022-07-20          1       0.735935  46.798731 -122.346530   \n",
       "89849     3  2022-07-20          1       0.735935  46.798731 -122.333841   \n",
       "89850     4  2022-07-20          1       0.735935  46.798731 -122.321151   \n",
       "...     ...         ...        ...            ...        ...         ...   \n",
       "10004  2495  2022-07-24          1       0.347503  48.727535 -117.626037   \n",
       "10005  2496  2022-07-24          1       0.347503  48.727535 -117.613347   \n",
       "10006  2497  2022-07-24          1       0.347503  48.727535 -117.600658   \n",
       "10007  2498  2022-07-24          1       0.347503  48.727535 -117.587968   \n",
       "10008  2499  2022-07-24          1       0.347503  48.727535 -117.575279   \n",
       "\n",
       "       dateUnixTimestamp  \n",
       "89292         1658275200  \n",
       "89293         1658275200  \n",
       "89848         1658275200  \n",
       "89849         1658275200  \n",
       "89850         1658275200  \n",
       "...                  ...  \n",
       "10004         1658620800  \n",
       "10005         1658620800  \n",
       "10006         1658620800  \n",
       "10007         1658620800  \n",
       "10008         1658620800  \n",
       "\n",
       "[2500 rows x 7 columns]"
      ]
     },
     "execution_count": 51,
     "metadata": {},
     "output_type": "execute_result"
    }
   ],
   "source": [
    "allDays = pd.concat(days)\n",
    "allDays = allDays[allDays[\"dayResult\"] == 1]\n",
    "allDays.insert(0, \"SNo\", range(0, len(allDays)))\n",
    "allDays[\"dateUnixTimestamp\"] = allDays.apply( lambda r: int(mktime(r[\"date\"].timetuple())), axis=1 )\n",
    "allDays[\"date\"]\n",
    "allDays"
   ]
  },
  {
   "cell_type": "code",
   "execution_count": 52,
   "metadata": {},
   "outputs": [],
   "source": [
    "features = allDays.apply(\n",
    "    lambda row: Feature(properties={\"id\": row[\"SNo\"], \"mag\": row[\"dayConfidence\"], \"time\": row[\"dateUnixTimestamp\"]}, geometry=Point((float(row[\"longitude\"]), float(row[\"latitude\"])))), axis=1\n",
    ").tolist()"
   ]
  },
  {
   "cell_type": "code",
   "execution_count": 53,
   "metadata": {},
   "outputs": [],
   "source": [
    "feature_collection = FeatureCollection(features=features, properties={\"name\": \"single instance predictions\"})"
   ]
  },
  {
   "cell_type": "code",
   "execution_count": 56,
   "metadata": {},
   "outputs": [],
   "source": [
    "with open('/home/tejabalu/www/flaskapp/static/single_instance.geojson', 'w', encoding='utf-8') as f:\n",
    "    f.write(json.dumps(feature_collection, ensure_ascii=False))\n"
   ]
  },
  {
   "cell_type": "code",
   "execution_count": null,
   "metadata": {},
   "outputs": [],
   "source": []
  },
  {
   "cell_type": "code",
   "execution_count": null,
   "metadata": {},
   "outputs": [],
   "source": []
  },
  {
   "cell_type": "code",
   "execution_count": null,
   "metadata": {},
   "outputs": [],
   "source": []
  },
  {
   "cell_type": "code",
   "execution_count": null,
   "metadata": {},
   "outputs": [],
   "source": []
  },
  {
   "cell_type": "code",
   "execution_count": null,
   "metadata": {},
   "outputs": [],
   "source": []
  },
  {
   "cell_type": "code",
   "execution_count": 111,
   "metadata": {},
   "outputs": [
    {
     "data": {
      "text/plain": [
       "pandas.core.series.Series"
      ]
     },
     "execution_count": 111,
     "metadata": {},
     "output_type": "execute_result"
    }
   ],
   "source": [
    "type(allDays[\"date\"][0])"
   ]
  },
  {
   "cell_type": "code",
   "execution_count": 113,
   "metadata": {},
   "outputs": [
    {
     "data": {
      "text/html": [
       "<div>\n",
       "<style scoped>\n",
       "    .dataframe tbody tr th:only-of-type {\n",
       "        vertical-align: middle;\n",
       "    }\n",
       "\n",
       "    .dataframe tbody tr th {\n",
       "        vertical-align: top;\n",
       "    }\n",
       "\n",
       "    .dataframe thead th {\n",
       "        text-align: right;\n",
       "    }\n",
       "</style>\n",
       "<table border=\"1\" class=\"dataframe\">\n",
       "  <thead>\n",
       "    <tr style=\"text-align: right;\">\n",
       "      <th></th>\n",
       "      <th>col 1</th>\n",
       "      <th>col 2</th>\n",
       "    </tr>\n",
       "  </thead>\n",
       "  <tbody>\n",
       "    <tr>\n",
       "      <th>row 1</th>\n",
       "      <td>a</td>\n",
       "      <td>b</td>\n",
       "    </tr>\n",
       "    <tr>\n",
       "      <th>row 2</th>\n",
       "      <td>c</td>\n",
       "      <td>d</td>\n",
       "    </tr>\n",
       "  </tbody>\n",
       "</table>\n",
       "</div>"
      ],
      "text/plain": [
       "      col 1 col 2\n",
       "row 1     a     b\n",
       "row 2     c     d"
      ]
     },
     "execution_count": 113,
     "metadata": {},
     "output_type": "execute_result"
    }
   ],
   "source": [
    "import json\n",
    "df = pd.DataFrame(\n",
    "    [[\"a\", \"b\"], [\"c\", \"d\"]],\n",
    "    index=[\"row 1\", \"row 2\"],\n",
    "    columns=[\"col 1\", \"col 2\"],\n",
    ")\n",
    "df"
   ]
  },
  {
   "cell_type": "code",
   "execution_count": 116,
   "metadata": {},
   "outputs": [
    {
     "data": {
      "text/plain": [
       "'{\"columns\": [\"col 1\", \"col 2\"], \"index\": [\"row 1\", \"row 2\"], \"data\": [[\"a\", \"b\"], [\"c\", \"d\"]]}'"
      ]
     },
     "execution_count": 116,
     "metadata": {},
     "output_type": "execute_result"
    }
   ],
   "source": [
    "result = df.to_json(orient=\"split\")\n",
    "parsed = json.loads(result)\n",
    "json.dumps(parsed)  "
   ]
  },
  {
   "cell_type": "code",
   "execution_count": 117,
   "metadata": {},
   "outputs": [
    {
     "data": {
      "text/plain": [
       "'{\"row 1\": {\"col 1\": \"a\", \"col 2\": \"b\"}, \"row 2\": {\"col 1\": \"c\", \"col 2\": \"d\"}}'"
      ]
     },
     "execution_count": 117,
     "metadata": {},
     "output_type": "execute_result"
    }
   ],
   "source": [
    "result = df.to_json(orient=\"index\")\n",
    "parsed = json.loads(result)\n",
    "json.dumps(parsed)  "
   ]
  },
  {
   "cell_type": "code",
   "execution_count": 118,
   "metadata": {},
   "outputs": [
    {
     "data": {
      "text/plain": [
       "'{\"col 1\": {\"row 1\": \"a\", \"row 2\": \"c\"}, \"col 2\": {\"row 1\": \"b\", \"row 2\": \"d\"}}'"
      ]
     },
     "execution_count": 118,
     "metadata": {},
     "output_type": "execute_result"
    }
   ],
   "source": [
    "result = df.to_json(orient=\"columns\")\n",
    "parsed = json.loads(result)\n",
    "json.dumps(parsed)  "
   ]
  },
  {
   "cell_type": "code",
   "execution_count": 130,
   "metadata": {},
   "outputs": [
    {
     "data": {
      "text/html": [
       "<div>\n",
       "<style scoped>\n",
       "    .dataframe tbody tr th:only-of-type {\n",
       "        vertical-align: middle;\n",
       "    }\n",
       "\n",
       "    .dataframe tbody tr th {\n",
       "        vertical-align: top;\n",
       "    }\n",
       "\n",
       "    .dataframe thead th {\n",
       "        text-align: right;\n",
       "    }\n",
       "</style>\n",
       "<table border=\"1\" class=\"dataframe\">\n",
       "  <thead>\n",
       "    <tr style=\"text-align: right;\">\n",
       "      <th></th>\n",
       "      <th>name</th>\n",
       "      <th>lat</th>\n",
       "      <th>lng</th>\n",
       "    </tr>\n",
       "  </thead>\n",
       "  <tbody>\n",
       "    <tr>\n",
       "      <th>0</th>\n",
       "      <td>test</td>\n",
       "      <td>24.13604</td>\n",
       "      <td>120.6778</td>\n",
       "    </tr>\n",
       "    <tr>\n",
       "      <th>1</th>\n",
       "      <td>test</td>\n",
       "      <td>24.13604</td>\n",
       "      <td>120.6778</td>\n",
       "    </tr>\n",
       "    <tr>\n",
       "      <th>2</th>\n",
       "      <td>test</td>\n",
       "      <td>24.13604</td>\n",
       "      <td>120.6778</td>\n",
       "    </tr>\n",
       "  </tbody>\n",
       "</table>\n",
       "</div>"
      ],
      "text/plain": [
       "   name       lat       lng\n",
       "0  test  24.13604  120.6778\n",
       "1  test  24.13604  120.6778\n",
       "2  test  24.13604  120.6778"
      ]
     },
     "execution_count": 130,
     "metadata": {},
     "output_type": "execute_result"
    }
   ],
   "source": [
    "df = pd.DataFrame([{'name': 'test', 'lat': 24.13604, 'lng': 120.6778}, {'name': 'test', 'lat': 24.13604, 'lng': 120.6778}, {'name': 'test', 'lat': 24.13604, 'lng': 120.6778}])\n",
    "df"
   ]
  },
  {
   "cell_type": "code",
   "execution_count": 131,
   "metadata": {},
   "outputs": [],
   "source": [
    "import json\n",
    "import pandas as pd\n",
    "from geojson import Feature, FeatureCollection, Point"
   ]
  },
  {
   "cell_type": "code",
   "execution_count": 147,
   "metadata": {},
   "outputs": [
    {
     "name": "stdout",
     "output_type": "stream",
     "text": [
      "<class 'datetime.date'>\n",
      "1658707200000\n"
     ]
    }
   ],
   "source": [
    "# columns used for constructing geojson object\n",
    "import time\n",
    "print(type(cur_date))\n",
    "curtimeunix = int(time.mktime(cur_date.timetuple())*1000)\n",
    "print(curtimeunix)\n",
    "\n",
    "features = df.apply( \n",
    "    lambda row: Feature(properties={\"id\": 1, \"mag\": 0.1, \"time\": curtimeunix}, geometry=Point((float(row['lng']), float(row['lat'])))), axis=1).tolist()\n",
    "\n",
    "# all the other columns used as properties\n",
    "\n",
    "# whole geojson object\n",
    "feature_collection = FeatureCollection(features=features, properties={\"name\": \"single instance predictions\"})"
   ]
  },
  {
   "cell_type": "code",
   "execution_count": 148,
   "metadata": {},
   "outputs": [
    {
     "data": {
      "text/plain": [
       "'{\"type\": \"FeatureCollection\", \"properties\": {\"name\": \"single instance predictions\"}, \"features\": [{\"type\": \"Feature\", \"geometry\": {\"type\": \"Point\", \"coordinates\": [120.6778, 24.13604]}, \"properties\": {\"id\": 1, \"mag\": 0.1, \"time\": 1658707200000}}, {\"type\": \"Feature\", \"geometry\": {\"type\": \"Point\", \"coordinates\": [120.6778, 24.13604]}, \"properties\": {\"id\": 1, \"mag\": 0.1, \"time\": 1658707200000}}, {\"type\": \"Feature\", \"geometry\": {\"type\": \"Point\", \"coordinates\": [120.6778, 24.13604]}, \"properties\": {\"id\": 1, \"mag\": 0.1, \"time\": 1658707200000}}]}'"
      ]
     },
     "execution_count": 148,
     "metadata": {},
     "output_type": "execute_result"
    }
   ],
   "source": [
    "json.dumps(feature_collection)"
   ]
  },
  {
   "cell_type": "code",
   "execution_count": null,
   "metadata": {},
   "outputs": [],
   "source": []
  }
 ],
 "metadata": {
  "kernelspec": {
   "display_name": "postprocessing",
   "language": "python",
   "name": "postprocessing"
  },
  "language_info": {
   "codemirror_mode": {
    "name": "ipython",
    "version": 3
   },
   "file_extension": ".py",
   "mimetype": "text/x-python",
   "name": "python",
   "nbconvert_exporter": "python",
   "pygments_lexer": "ipython3",
   "version": "3.9.12"
  },
  "orig_nbformat": 4,
  "vscode": {
   "interpreter": {
    "hash": "123b8195b0e9556ea4ed4b257271248a520f3072f4ada1f0c873b56500103f48"
   }
  }
 },
 "nbformat": 4,
 "nbformat_minor": 2
}
